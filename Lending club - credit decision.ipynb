{
 "cells": [
  {
   "cell_type": "markdown",
   "metadata": {},
   "source": [
    "NOTE: This notebook runs LogisticRegression without Lasso (L1) or Ridge (L2) regularization. For this you need SKlearn 0.21.3. \n",
    "\n",
    "For users who are to Python: you can check the version you have by entering \n",
    "                conda list \n",
    "in the Anaconda Prompt. To update an earlier version enter \n",
    "            conda update python \n",
    "in the Anaconda Prompt. \n",
    "\n",
    "LENDING CLUB BACKGROUND\n",
    "Lending Club is a peer-to-peer (P2P) lending platform, where borrowers submit their loan applications and individual lenders select the applications that they want to fund. Borrowers receive the full amount of the issued loan minus the origination fee, which is paid to the company. Investors purchase notes backed by the personal loans and pay Lending Club a service fee.\n",
    "\n",
    "P2P lending brings down the cost of personal loans compared to traditional financing by connecting the borrowers and investors directly. However, there is always a risk of investing in a bad loan. In fact, the default rate for P2P loans are much higher than that of traditional loans. Therefore, the lending industry is highly interested in providing the investors with comprehensive risk assessment of the loan applications. The company shares data about all loan applications made through its platform. \n",
    "\n",
    "THIS CODE\n",
    "This code uses loans from the period of October 2007 to September 2017 that were current or charged off (defaulted).This code uses logistic regression to to develop a predictive model."
   ]
  },
  {
   "cell_type": "code",
   "execution_count": 3,
   "metadata": {},
   "outputs": [],
   "source": [
    "# import packages\n",
    "import warnings\n",
    "warnings.filterwarnings('ignore')\n",
    "\n",
    "import pandas as pd\n",
    "import numpy as np\n",
    "\n",
    "import seaborn as sns\n",
    "import matplotlib.pyplot as plt\n",
    "\n",
    "from sklearn.linear_model import LogisticRegression\n",
    "\n",
    "from sklearn.metrics import accuracy_score, recall_score, precision_score, f1_score\n",
    "from sklearn.metrics import confusion_matrix, classification_report\n",
    "from sklearn.metrics import precision_recall_curve, auc, average_precision_score"
   ]
  },
  {
   "cell_type": "code",
   "execution_count": 4,
   "metadata": {},
   "outputs": [
    {
     "name": "stdout",
     "output_type": "stream",
     "text": [
      "   home_ownership  income    dti  fico_low  loan_status\n",
      "0               1  44.304  18.47       690            0\n",
      "1               0  38.500  33.73       660            0\n",
      "2               1  54.000  19.00       660            0\n",
      "3               1  60.000  33.98       695            0\n",
      "4               0  39.354  10.85       685            0\n",
      "--------------------------------\n",
      "   home_ownership  income    dti  fico_low  loan_status\n",
      "0               1   127.0  10.94       675            0\n",
      "1               1   197.0  15.64       710            0\n",
      "2               1    25.5  28.75       670            0\n",
      "3               1    80.0  20.16       660            0\n",
      "4               0    57.0  30.60       675            0\n"
     ]
    }
   ],
   "source": [
    "train = pd.read_excel('lendingclub_traindata.xlsx')\n",
    "test = pd.read_excel('lendingclub_testdata.xlsx')\n",
    "\n",
    "# 1 = good, 0 = default\n",
    "\n",
    "# give column names\n",
    "cols = ['home_ownership', 'income', 'dti', 'fico_low', 'loan_status']\n",
    "train.columns = test.columns = cols\n",
    "\n",
    "print(train.head())\n",
    "print(\"--------------------------------\")\n",
    "print(test.head())"
   ]
  },
  {
   "cell_type": "markdown",
   "metadata": {},
   "source": [
    "For the purposes of this exercise, the dataset has already been split into train and test set. There are 8695 instances of training set and 5916 instances of test set with with four features and one target. The four features are home_ownership, income, dti and fico_low and the target is loan status that includes either fully paid or defaulted loans only. "
   ]
  },
  {
   "cell_type": "code",
   "execution_count": 5,
   "metadata": {},
   "outputs": [
    {
     "name": "stdout",
     "output_type": "stream",
     "text": [
      "(8695, 4) (8695,) (5916, 4) (5916,)\n"
     ]
    },
    {
     "data": {
      "text/plain": [
       "Index(['home_ownership', 'income', 'dti', 'fico_low'], dtype='object')"
      ]
     },
     "execution_count": 5,
     "metadata": {},
     "output_type": "execute_result"
    }
   ],
   "source": [
    "# remove target column to create feature only dataset\n",
    "X_train = train.drop('loan_status', 1)\n",
    "X_test = test.drop('loan_status', 1)\n",
    "\n",
    "# store target column\n",
    "y_train = train['loan_status']\n",
    "y_test = test['loan_status']\n",
    "\n",
    "print(X_train.shape, y_train.shape, X_test.shape, y_test.shape)\n",
    "X_train.columns"
   ]
  },
  {
   "cell_type": "code",
   "execution_count": 6,
   "metadata": {},
   "outputs": [
    {
     "data": {
      "text/plain": [
       "0.8276020701552617"
      ]
     },
     "execution_count": 6,
     "metadata": {},
     "output_type": "execute_result"
    }
   ],
   "source": [
    "majority_class = y_train.mode()[0]        # predict fully paid only\n",
    "prediction = np.full(shape=y_train.shape, fill_value=majority_class)\n",
    "accuracy_score(y_train, prediction)"
   ]
  },
  {
   "cell_type": "code",
   "execution_count": 7,
   "metadata": {},
   "outputs": [
    {
     "data": {
      "text/plain": [
       "1    82.760207\n",
       "0    17.239793\n",
       "Name: loan_status, dtype: float64"
      ]
     },
     "execution_count": 7,
     "metadata": {},
     "output_type": "execute_result"
    }
   ],
   "source": [
    "freq = y_train.value_counts()           # count frequency of different classes in loan status\n",
    "freq/sum(freq)*100                      # get percentage of above"
   ]
  },
  {
   "cell_type": "markdown",
   "metadata": {},
   "source": [
    "<br>\n",
    "Roughly 82% of data points are of majority (fully paid) class compared 17% in minority (defaulted) class. Acuracy of machine learning model trained on dataset with class imbalance will be high on train set but will not generalize to an unseen dataset. \n",
    "\n",
    "Accuracy is the sum of all correct predictions divided by the total number of instances. It is just the starting point. We should look more closely at the quality of the predictions for each class.\n",
    "\n",
    "Training the model is the step where the algorithms \"learn from the data\" through numerous iterations over the the dataset. In the first few iterations, the algorithm is just learning and knows very little. However, after lots of iterations and correcting for previous mistakes, a well-train model can be developed. The parameters such as weights and biases (errors) are updated in each iteration.\n",
    "\n",
    "Based on the complexity of data we can use simpler machine learning models or combine them with more advanced methods. In our case, the preprocessed data is fairly simple and since we are dealing with binary classification problem, logistic regression is a good point of start."
   ]
  },
  {
   "cell_type": "code",
   "execution_count": 8,
   "metadata": {},
   "outputs": [
    {
     "name": "stdout",
     "output_type": "stream",
     "text": [
      "[-6.56519888] [[ 0.139496    0.00410667 -0.00112302  0.01125205]]\n"
     ]
    }
   ],
   "source": [
    "lgstc_reg =  LogisticRegression(penalty=\"none\", solver='newton-cg')     # create an instance of logistic regression\n",
    "\n",
    "lgstc_reg.fit(X_train, y_train)                                                             # fit training data on logistic regression \n",
    "\n",
    "print(lgstc_reg.intercept_, lgstc_reg.coef_)                                                # get the coefficients of each features"
   ]
  },
  {
   "cell_type": "markdown",
   "metadata": {},
   "source": [
    "<br>\n",
    "The bias is estimated as -6.56517476. The coefficient of the logistic regression are 0.13949599 for home_ownership, 0.0041 0667 for income, -0.00112303 for dti and 0.01125202 for fico_low. These are the weights (parameters) that maximizes the likelihood of producing our given data and hence gives us the least error in predicting our response variable.\n",
    "\n",
    "The question of how to evaluate the model is of the utmost importance. This is where we will test the model's performance on an unseen test set and check the results of our chosen measure of success. This step is meant to be representative of how the model might perform in the real world."
   ]
  },
  {
   "cell_type": "code",
   "execution_count": 9,
   "metadata": {},
   "outputs": [
    {
     "name": "stdout",
     "output_type": "stream",
     "text": [
      "accuracy of logistic regression model=0.821\n"
     ]
    }
   ],
   "source": [
    "y_pred = lgstc_reg.predict(X_test)                           # predict default loans based on test data set\n",
    "\n",
    "acc = accuracy_score(y_test, y_pred)                         # check the accuracy of the model\n",
    "\n",
    "print('accuracy of logistic regression model=%.3f' % (acc) )"
   ]
  },
  {
   "cell_type": "markdown",
   "metadata": {},
   "source": [
    "<br> \n",
    "An analyst must decide on a criterion for predicting whether loan will be good or default. This involves specifying a threshold. By default this threshold is set to 0.5. However, we can look at the results for few other thresholds. Ideally, if the probability that the loan will be good is higher then we should account for that in our decision. \n",
    "\n",
    "**CONFUSION MATRIX**\n",
    "\n",
    "In addition, the accuracy of logistic regression model is the same as that of the naive model. However, we know that accuracy alone can be a misleading. Hence, we will begin by analyzing the results of the confusion matrix to check the quality of prediction. \n",
    "\n",
    "A confusion matrix summarizes the performance of classification algorithms by tabulating instances of actual classes in row and instances of predicted classes in column. This makes it easy to see the misclassifications made by the algorithms."
   ]
  },
  {
   "cell_type": "code",
   "execution_count": 49,
   "metadata": {},
   "outputs": [
    {
     "name": "stdout",
     "output_type": "stream",
     "text": [
      "77.58620689655173\n",
      "4.530087897227856\n",
      "16.26098715348208\n",
      "1.6227180527383367\n",
      "---------------------------------------\n",
      "\n",
      "THRESHOLD: 0.75 \n",
      "accuracy: 0.7920892494929006\n",
      "\n",
      "\n"
     ]
    },
    {
     "data": {
      "image/png": "[encoded data removed]",
      "text/plain": [
       "<Figure size 360x216 with 2 Axes>"
      ]
     },
     "metadata": {
      "needs_background": "light"
     },
     "output_type": "display_data"
    },
    {
     "name": "stdout",
     "output_type": "stream",
     "text": [
      "55.341446923597026\n",
      "26.774847870182555\n",
      "9.753211629479377\n",
      "8.13049357674104\n",
      "---------------------------------------\n",
      "\n",
      "THRESHOLD: 0.8 \n",
      "accuracy: 0.6347194050033806\n",
      "\n",
      "\n"
     ]
    },
    {
     "data": {
      "image/png": "[encoded data removed]",
      "text/plain": [
       "<Figure size 360x216 with 2 Axes>"
      ]
     },
     "metadata": {
      "needs_background": "light"
     },
     "output_type": "display_data"
    },
    {
     "name": "stdout",
     "output_type": "stream",
     "text": [
      "28.65111561866126\n",
      "53.46517917511833\n",
      "3.7356321839080464\n",
      "14.148073022312374\n",
      "---------------------------------------\n",
      "\n",
      "THRESHOLD: 0.85 \n",
      "accuracy: 0.4279918864097363\n",
      "\n",
      "\n"
     ]
    },
    {
     "data": {
      "image/png": "[encoded data removed]",
      "text/plain": [
       "<Figure size 360x216 with 2 Axes>"
      ]
     },
     "metadata": {
      "needs_background": "light"
     },
     "output_type": "display_data"
    }
   ],
   "source": [
    "THRESHOLD = [.75, .80, .85]\n",
    "results = pd.DataFrame(columns=[\"THRESHOLD\", \"accuracy\", \"recall\", \"tnr\", \"fpr\", \"precision\", \"f1_score\"]) # df to store results\n",
    "results['THRESHOLD'] = THRESHOLD                                                                           # threshold column\n",
    "             \n",
    "j = 0                                                                                                      \n",
    "for i in THRESHOLD:                                                                                        # iterate over each threshold    \n",
    "    \n",
    "    \n",
    "    lgstc_reg.fit(X_train, y_train)                                                                        # fit data to model\n",
    "    preds = np.where(lgstc_reg.predict_proba(X_test)[:,1] > i, 1, 0)                                       # if prob > threshold, predict 1\n",
    "    \n",
    "    cm = (confusion_matrix(y_test, preds,labels=[1, 0], sample_weight=None) / 5916 )*100                   # confusion matrix (in percentage)\n",
    "    TP = cm[0][0]                                                                                          # True Positives\n",
    "    FN = cm[0][1]                                                                                          # False Positives\n",
    "    FP = cm[1][0]                                                                                          # True Negatives\n",
    "    TN = cm[1][1]                                                                                          # False Negatives\n",
    "        \n",
    "    print(TP)\n",
    "    print(FN)\n",
    "    print(FP)\n",
    "    print(TN)\n",
    "    \n",
    "    results.iloc[j,1] = accuracy_score(y_test, preds) \n",
    "    results.iloc[j,2] = recall_score(y_test, preds)\n",
    "    results.iloc[j,3] = TN/(FP+TN)                                                                         # True negative rate\n",
    "    results.iloc[j,4] = FP/(FP+TN)                                                                         # False positive rate\n",
    "    results.iloc[j,5] = precision_score(y_test, preds)\n",
    "    results.iloc[j,6] = f1_score(y_test, preds)\n",
    "    \n",
    "    print( '---------------------------------------\\n' )\n",
    "    print('THRESHOLD:', i, '\\naccuracy:', results.iloc[j,1])\n",
    "    print( '\\n' )\n",
    "    \n",
    "    plt.figure(figsize=(5, 3))      # format the plot size\n",
    "    ax = plt.subplot()\n",
    "    sns.heatmap(cm, annot=True, ax = ax, fmt='g', cmap=\"Blues\")\n",
    "    ax.set_xlabel('\\nPredicted labels'); ax.set_ylabel('True labels\\n')\n",
    "    ax.xaxis.tick_top()\n",
    "    ax.yaxis.set_ticklabels(['Good', 'Defaulted'])\n",
    "    ax.xaxis.set_ticklabels(['Good', 'Defaulted'])\n",
    "    plt.show()\n",
    "\n",
    "    j += 1"
   ]
  },
  {
   "cell_type": "markdown",
   "metadata": {},
   "source": [
    "<br>\n",
    "We note here from the confusion matrix at threshold 0.75 that while the model is good at identifying good loans, however it isn't good at identifying the bad loans at all.\n",
    "\n",
    "We also note that increasing the threshold results in decrease in overall accuracy. But the percentage of default loans identified as default is higher with increasing threshold. We know by now that maximizing the accuracy does not necessarily create the best model. Thus, lets look at some other metrics."
   ]
  },
  {
   "cell_type": "code",
   "execution_count": 11,
   "metadata": {},
   "outputs": [
    {
     "name": "stdout",
     "output_type": "stream",
     "text": [
      "ALL METRICS\n",
      "                   0         1         2\n",
      "THRESHOLD       0.75       0.8      0.85\n",
      "accuracy    0.792089  0.634719  0.427992\n",
      "recall      0.944833   0.67394  0.348909\n",
      "tnr        0.0907372  0.454631  0.791115\n",
      "fpr         0.909263  0.545369  0.208885\n",
      "precision   0.826729  0.850169  0.884656\n",
      "f1_score    0.881844  0.751866  0.500443\n"
     ]
    }
   ],
   "source": [
    "print( 'ALL METRICS' )\n",
    "print( results.T )"
   ]
  },
  {
   "cell_type": "markdown",
   "metadata": {},
   "source": [
    "<br>\n",
    "Recall and true negative rate are also decreasing with increase in threshold rate. However, precision and false positive rate are increasing with increasing threshold. "
   ]
  },
  {
   "cell_type": "code",
   "execution_count": 48,
   "metadata": {},
   "outputs": [
    {
     "name": "stdout",
     "output_type": "stream",
     "text": [
      "<class 'numpy.ndarray'>\n",
      "<class 'numpy.ndarray'>\n",
      "Fitting\n",
      "Predicting\n",
      "Done\n"
     ]
    }
   ],
   "source": [
    "from sklearn.neural_network import MLPClassifier, MLPRegressor\n",
    "from sklearn.preprocessing import StandardScaler\n",
    "\n",
    "scaler = StandardScaler()\n",
    "scaler.fit(X_train)\n",
    "X_train = scaler.transform(X_train)\n",
    "X_test = scaler.transform(X_test)\n",
    "\n",
    "mlp = MLPClassifier(hidden_layer_sizes=(100,100,100),max_iter=10000)\n",
    "\n",
    "y_train_1darray = y_train.values.flatten()\n",
    "y_val_1darray = y_test.values.flatten()\n",
    "\n",
    "print(type(X_train))\n",
    "print(type(y_train_1darray))\n",
    "#print(y_train_1darray)\n",
    "\n",
    "#print(y_train_1darray.shape)\n",
    "#print(y_train_1darray)\n",
    "\n",
    "print(\"Fitting\")\n",
    "mlp.fit(X_train,y_train_1darray.astype(int))\n",
    "\n",
    "#print(X_train)\n",
    "print(\"Predicting\")\n",
    "predictions = mlp.predict(X_test)\n",
    "\n",
    "#print(mse(y_val_1darray,predictions))\n",
    "\n",
    "#print(mlp.score(X_val, y_val))"
   ]
  },
  {
   "cell_type": "code",
   "execution_count": 46,
   "metadata": {},
   "outputs": [
    {
     "name": "stdout",
     "output_type": "stream",
     "text": [
      "[[  63  995]\n",
      " [ 218 4640]]\n",
      "<class 'numpy.ndarray'>\n",
      "<class 'numpy.ndarray'>\n"
     ]
    }
   ],
   "source": [
    "from sklearn.metrics import classification_report,confusion_matrix#,plot_confusion_matrix\n",
    "print(confusion_matrix(y_val_1darray.astype(int),predictions, labels=[0,1]  ))\n",
    "\n",
    "#for i in range(len(y_val_1darray)):\n",
    "#    print(y_val_1darray-predictions)\n",
    "\n",
    "print(type(y_val_1darray))\n",
    "print(type(predictions))\n",
    "\n",
    "y_val_df = pd.DataFrame(data=y_val_1darray)\n",
    "y_val_df.to_excel('y_val_df.xlsx')\n",
    "\n",
    "predictions_df = pd.DataFrame(data=predictions)\n",
    "predictions_df.to_excel('predictions_df.xlsx')\n",
    "#print(predictions)"
   ]
  },
  {
   "cell_type": "code",
   "execution_count": 47,
   "metadata": {},
   "outputs": [
    {
     "name": "stdout",
     "output_type": "stream",
     "text": [
      "              precision    recall  f1-score   support\n",
      "\n",
      "           0       0.22      0.06      0.09      1058\n",
      "           1       0.82      0.96      0.88      4858\n",
      "\n",
      "    accuracy                           0.79      5916\n",
      "   macro avg       0.52      0.51      0.49      5916\n",
      "weighted avg       0.72      0.79      0.74      5916\n",
      "\n"
     ]
    }
   ],
   "source": [
    "print(classification_report(y_val_1darray.astype(int),predictions))"
   ]
  },
  {
   "cell_type": "code",
   "execution_count": null,
   "metadata": {},
   "outputs": [],
   "source": []
  },
  {
   "cell_type": "code",
   "execution_count": null,
   "metadata": {},
   "outputs": [],
   "source": []
  }
 ],
 "metadata": {
  "kernelspec": {
   "display_name": "Python 3",
   "language": "python",
   "name": "python3"
  },
  "language_info": {
   "codemirror_mode": {
    "name": "ipython",
    "version": 3
   },
   "file_extension": ".py",
   "mimetype": "text/x-python",
   "name": "python",
   "nbconvert_exporter": "python",
   "pygments_lexer": "ipython3",
   "version": "3.7.4"
  }
 },
 "nbformat": 4,
 "nbformat_minor": 2
}
